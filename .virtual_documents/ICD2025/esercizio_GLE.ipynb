# lib
import pandas as pd
import numpy as np
import matplotlib.pyplot as plt
from scipy.interpolate import interp1d
from IPython.display import Image
from scipy.stats import spearmanr


from sunpy.net import Fido
from sunpy.net import attrs as a





Image(filename='figures/stations.png', width=800, height=800)


csv_file_path = 'neutron_monitor_stations.csv'
df = pd.read_csv(csv_file_path)
df





Image(filename='figures/flare.png', width=500, height=500)





base1 = 'oulu' 
# per aggiunger piu basi da visualizzare (uncomment)

base2 = 'apty'
# base3 = '...'
# base4 = '...'





event = '72'


nm1 = f'GLE_{event}/c0{event}{base1}.dat'
nm2 = f'GLE_{event}/c0{event}{base2}.dat'
# nm3 = f'GLE_74/c074{base3}.dat'
# nm4 = f'GLE_74/c074{base4}.dat'


data_nm1 = pd.read_csv(nm1, skiprows=9, nrows=280, header=None, sep='\s+', on_bad_lines='skip')
data_nm2 = pd.read_csv(nm2, skiprows=9, nrows=280, header=None, sep='\s+', on_bad_lines='skip')


data_nm1 = pd.read_csv(nm1, skiprows=9, header=None,sep='\s+', on_bad_lines='skip')
ind1 = data_nm1[data_nm1.apply(lambda row: row.astype(str).str.contains('\*').any(), axis=1)].index
data_nm1 = data_nm1.iloc[:ind1[0]]
data_nm1 = data_nm1.replace(-999.00, np.nan)
data_nm1 = data_nm1.dropna()
data_nm1['DateTime'] = pd.to_datetime(data_nm1[1].astype(str) + ' ' + data_nm1[3].str[:6], format='%y%m%d %H%M%S')
data_nm1['Value'] = data_nm1[8].astype(float)


data_nm2 = pd.read_csv(nm2, skiprows=9, header=None,sep='\s+', on_bad_lines='skip')
ind2 = data_nm2[data_nm2.apply(lambda row: row.astype(str).str.contains('\*').any(), axis=1)].index
data_nm2 = data_nm2.iloc[:ind2[0]]
data_nm2 = data_nm2.replace(-999.00, np.nan)
data_nm2 = data_nm2.dropna()
data_nm2['DateTime'] = pd.to_datetime(data_nm2[1].astype(str) + ' ' + data_nm2[3].str[:6], format='%y%m%d %H%M%S')
data_nm2['Value'] = data_nm2[8].astype(float)



# # data_nm1 = pd.read_csv(nm1, skiprows=9, nrows=length, header=None, sep='\s+', on_bad_lines='skip')
# # data_nm2 = pd.read_csv(nm2, skiprows=9, nrows=length, header=None, sep='\s+', on_bad_lines='skip')
# #data_nm3 = pd.read_csv(nm3, skiprows=9, nrows=280, header=None, delim_whitespace=True, on_bad_lines='skip')
# #data_nm4 = pd.read_csv(nm4, skiprows=9, nrows=280, header=None, delim_whitespace=True, on_bad_lines='skip')


# data_nm1 = data_nm1.replace(-999.00, np.nan)
# data_nm2 = data_nm2.replace(-999.00, np.nan)
# #data_nm3 = data_nm3.replace(-999.00, np.nan)
# #data_nm4 = data_nm4.replace(-999.00, np.nan)


# data_nm1 = data_nm1.dropna(axis=0)
# data_nm2 = data_nm2.dropna(axis=0)
# #data_nm3 = data_nm3.dropna(axis=0)
# #data_nm4 = data_nm4.dropna(axis=0)


# # data cleaning and preparation
# data_nm1['DateTime'] = pd.to_datetime(data_nm1[1].astype(str) + ' ' + data_nm1[3].str[:6], format='%y%m%d %H%M%S')
# data_nm1['Value'] = data_nm1[8]

# data_nm2['DateTime'] = pd.to_datetime(data_nm2[1].astype(str) + ' ' + data_nm2[3].str[:6], format='%y%m%d %H%M%S')
# data_nm2['Value'] = data_nm2[8]

# # data_nm3['DateTime'] = pd.to_datetime(data_nm3[1].astype(str) + ' ' + data_nm3[3].str[:6], format='%y%m%d %H%M%S')
# # data_nm3['Value'] = data_nm3[8]

# # data_nm4['DateTime'] = pd.to_datetime(data_nm4[1].astype(str) + ' ' + data_nm4[3].str[:6], format='%y%m%d %H%M%S')
# # data_nm4['Value'] = data_nm4[8]



plt.figure(figsize=(10, 5))
plt.plot(data_nm1['DateTime'], data_nm1['Value'], label=f'{base1}')
plt.plot(data_nm2['DateTime'], data_nm2['Value'], label=f'{base2}')
#plt.plot(data_nm3['DateTime'], data_nm3['Value'], label=f'{base3}')
#plt.plot(data_nm4['DateTime'], data_nm4['Value'], label=f'{base4}')
plt.xlabel('Time UTC')
plt.ylabel('Relative to pre-increase, %')
# title the year of the event
plt.title(f'Ground Level Enhancement {event} -- Year =  {data_nm1["DateTime"][0].year}')
plt.legend()
plt.grid(True)
plt.show()





data_evento = '2012-05-17' #25 Maggio 2024





Image(filename='figures/goes.png', width=800, height=800)








tstart = data_evento + ' 00:00:00'
tend = data_evento + ' 23:59:59'


event_type = "FL"
result = Fido.search(a.Time(tstart, tend),
                     a.hek.EventType(event_type),
                     a.hek.FL.GOESCls > "M1.0",
                     a.hek.OBS.Observatory == "GOES")



# It"s also possible to access the HEK results from the
# `~sunpy.net.fido_factory.UnifiedResponse` by name.
hek_results = result["hek"]

filtered_results = hek_results["event_starttime", "event_peaktime",
                               "event_endtime", "fl_goescls", "ar_noaanum"]

by_magnitude = sorted(filtered_results, key=lambda x: ord(x['fl_goescls'][0]) + float(x['fl_goescls'][1:]), reverse=True)

for flare in by_magnitude:
    print(f"Class {flare['fl_goescls']} occurred on {flare['event_starttime']}")






