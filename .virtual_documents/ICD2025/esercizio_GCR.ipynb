





import numpy as np
import matplotlib.pyplot as plt





plt.rcParams.update({
  'axes.linewidth': 2,
  'font.size': 16,
  'font.weight': 'bold',
  'xtick.major.size': 7,
  'xtick.major.width': 2,
  'xtick.minor.size': 4,
  'xtick.minor.width': 1.5,
  'ytick.major.size': 7,
  'ytick.major.width': 2,
  'ytick.minor.size': 4,
  'ytick.minor.width': 1.5
})





theta = np.array([5, 15, 25, 35, 45, 55, 65, 75, 85])
tempo = np.array([725, 414, 506, 433, 615, 621, 572, 452, 477])





conteggi_N0 = np.array([20881, 7682, 9019, 7799, 11410, 17971, 9308, 6808, 5769])
conteggi_N1 = np.array([18995, 13713, 9759, 9791, 11897, 11955, 9422, 6387, 8334])
conteggi_N2 = np.array([32876, 19004, 16930, 13641, 13810, 14390, 6457, 8702, 4837])





conteggi_N01 = np.array([11296, 6198, 6526, 5210, 6104, 4844, 3581, 2610, 2736])
conteggi_N02 = np.array([4523, 2385, 2582, 2024, 2296, 1539, 512, 148, 65])
conteggi_N012 = np.array([3818, 2075, 2242, 1750, 2022, 1336, 429, 106, 15])





Intensità_N0 = conteggi_N0/tempo
Intensità_N01 = conteggi_N01/tempo
Intensità_N012 = conteggi_N012/tempo





err_Intensità_N0 = np.sqrt(conteggi_N0)/tempo
err_Intensità_N01 = np.sqrt(conteggi_N01)/tempo
err_Intensità_N012 = np.sqrt(conteggi_N012)/tempo





fig = plt.figure(figsize=[16, 9])
ax1 = plt.subplot()
ax1.errorbar(theta, Intensità_N01, yerr=err_Intensità_N01, lw=3, marker='o', ms=10, c='green')
ax1.set_xlabel('angolo (deg)', fontsize=20, weight='bold')
ax1.set_ylabel('Intensità N01 (Hz)', fontsize=20, weight='bold')
plt.show()





cos_theta = np.cos(theta*np.pi/180)
cos2_theta = cos_theta*cos_theta





pesi = 1/err_Intensità_N01**2





m, q = np.polyfit(cos2_theta, Intensità_N01, deg=1, w=pesi)





y_fit = m * cos2_theta + q





chi2 = np.sum(((Intensità_N01 - y_fit) / err_Intensità_N01)**2)





gradi_di_libertà = 9-2
chi2_ridotto = chi2/gradi_di_libertà





fig = plt.figure(figsize=[16, 9])
ax1 = plt.subplot()
ax1.errorbar(cos2_theta, Intensità_N01, yerr=err_Intensità_N01, lw=3, label='Dati', marker='o', ms=10, c='green')
ax1.plot(cos2_theta, y_fit, lw=3, label='Fit con retta', c='red')
ax1.set_xlabel('cos2_theta', fontsize=20, weight='bold')
ax1.set_ylabel('Intensità N01 (Hz)', fontsize=20, weight='bold')
plt.show()
print(chi2_ridotto)





