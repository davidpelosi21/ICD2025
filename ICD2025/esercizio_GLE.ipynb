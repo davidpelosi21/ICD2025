{
 "cells": [
  {
   "cell_type": "markdown",
   "metadata": {},
   "source": [
    "# Preparazione dell'ambiente di sviluppo \n",
    "- importiamo le librerie necessarie all'analisi\n",
    "\n",
    "- se necessario vi manderemo un link per rieseguire da casa il notebook su cui lavorerete oggi, via browser, senza dover installare nulla (ci stiamo lavorando)\n",
    "https://mybinder.org/v2/gh/davidpelosi21/ICD2025.git/HEAD"
   ]
  },
  {
   "cell_type": "code",
   "execution_count": 1,
   "metadata": {},
   "outputs": [],
   "source": [
    "# lib\n",
    "import pandas as pd\n",
    "import numpy as np\n",
    "import matplotlib.pyplot as plt\n",
    "from scipy.interpolate import interp1d\n",
    "from IPython.display import Image\n",
    "from sunpy.net import Fido\n",
    "from sunpy.net import attrs as a"
   ]
  },
  {
   "cell_type": "markdown",
   "metadata": {},
   "source": [
    "## Le basi di Neutron Monitor (NM)\n",
    "- questa mappa mostra il network globale di basi di Neutron Monitor disponibili "
   ]
  },
  {
   "cell_type": "code",
   "execution_count": null,
   "metadata": {},
   "outputs": [],
   "source": [
    "Image(filename='figures/stations.png', width=800, height=800)"
   ]
  },
  {
   "cell_type": "markdown",
   "metadata": {},
   "source": [
    "Se non trovate qualche base di NM nella tabella sotto (può capitare) - cercate le informazioni qui:\n",
    "[Link to Neutron Monitor Database](https://www.nmdb.eu/station/)"
   ]
  },
  {
   "cell_type": "markdown",
   "metadata": {},
   "source": [
    "# Questa tabella mostra le proprietà principali di ciascun NM, in partcolare:\n",
    "- coordinate geografiche\n",
    "- altitudine (un parametro importante per identificare un GLE)\n",
    "- il cutoff geomagnetico (espresso in GigaVolt) "
   ]
  },
  {
   "cell_type": "code",
   "execution_count": null,
   "metadata": {},
   "outputs": [],
   "source": [
    "csv_file_path = 'neutron_monitor_stations.csv'\n",
    "df = pd.read_csv(csv_file_path)\n",
    "df"
   ]
  },
  {
   "cell_type": "markdown",
   "metadata": {},
   "source": [
    "## Esercizio: Osservazione di un GLE \n",
    "\n",
    "Abbiamo visto come i neutron monitor siano in grado di osservare (indirettamente) un evento solare intenso (flare). L'effetto si manifesta come un rapido aumento dei conteggi.\n",
    "\n",
    "Questo effetto viene chiamato **Ground Level Enhancement 'GLE'** "
   ]
  },
  {
   "cell_type": "markdown",
   "metadata": {},
   "source": [
    "# Ognuno di voi potrà scegliere un evento tra i seguenti:\n",
    "- event 70\n",
    "- event 71\n",
    "- event 72\n",
    "- event 73\n",
    "- event 74 (esempio)\n",
    "- event 75\n",
    "- event 76\n",
    "\n",
    "## Verificare se nel periodo analizzato si è verificato un evento solare intenso, osservando i conteggi di diverse basi di Neutron Monitor (in realtà la loro variazione rispetto alla meda del periodo precendente)\n",
    "\n",
    "\n",
    "- Un evento GLE viene registrato quando ci sono aumenti coincidenti nel tempo e statisticamente significativi dei tassi di conteggio di **almeno due monitori di neutroni situati in posizioni differenti**, tra cui almeno un monitor di neutroni vicino al **livello del mare** (Ground-level) e un corrispondente aumento nel **flusso di protoni misurato da un esperimento spaziale** (Poluianov et al., 2017)."
   ]
  },
  {
   "cell_type": "markdown",
   "metadata": {},
   "source": [
    "# Sub-GLE\n",
    "osservare un aumento significativo dei conteggi in una base di NM è necessaario ma non sufficiente per affermare di aver osservato un GLE. Esistono anche i sub-GLE, ossia fenomeni meno intensi che non raggiungono i NM posti a basse altitudini, inoltre improvvisi malfunzionamenti dell'hardware di un NM potrebbero dare un falso segnale"
   ]
  },
  {
   "cell_type": "code",
   "execution_count": null,
   "metadata": {},
   "outputs": [],
   "source": [
    "Image(filename='figures/GLE_ex.png', width=800, height=800)\n",
    "# hourly data"
   ]
  },
  {
   "cell_type": "markdown",
   "metadata": {},
   "source": [
    "# Scegli il tuo evento"
   ]
  },
  {
   "cell_type": "code",
   "execution_count": 5,
   "metadata": {},
   "outputs": [],
   "source": [
    "event = ''\n",
    "# e.g. '74'"
   ]
  },
  {
   "cell_type": "markdown",
   "metadata": {},
   "source": [
    "## Seleziona i dati di Neutron Monitor da visualizzare"
   ]
  },
  {
   "cell_type": "code",
   "execution_count": 6,
   "metadata": {},
   "outputs": [],
   "source": [
    "base1 = '' \n",
    "# per aggiungere piu basi da visualizzare (uncomment)\n",
    "#base2 = 'nain'\n",
    "# base3 = '...'\n",
    "# base4 = '...'"
   ]
  },
  {
   "cell_type": "code",
   "execution_count": 7,
   "metadata": {},
   "outputs": [],
   "source": [
    "nm1 = f'event_{event}/c0{event}{base1}.dat'\n",
    "\n",
    "# per aggiungere piu basi da visualizzare (uncomment)\n",
    "nm2 = f'event_{event}/c0{event}{base2}.dat'\n",
    "# nm3 = f'event_74/c074{base3}.dat'\n",
    "# nm4 = f'event_74/c074{base4}.dat'"
   ]
  },
  {
   "cell_type": "code",
   "execution_count": 8,
   "metadata": {},
   "outputs": [],
   "source": [
    "data_nm1 = pd.read_csv(nm1, skiprows=9, header=None,sep='\\s+', on_bad_lines='skip')\n",
    "ind1 = data_nm1[data_nm1.apply(lambda row: row.astype(str).str.contains('\\*').any(), axis=1)].index\n",
    "data_nm1 = data_nm1.iloc[:ind1[0]]\n",
    "data_nm1 = data_nm1.replace(-999.00, np.nan)\n",
    "data_nm1 = data_nm1.dropna()\n",
    "data_nm1 = data_nm1.drop(data_nm1[data_nm1[8] == '-9999'].index)\n",
    "\n",
    "\n",
    "\n",
    "data_nm1['DateTime'] = pd.to_datetime(data_nm1[1].astype(str) + ' ' + data_nm1[3].str[:6], format='%y%m%d %H%M%S')\n",
    "data_nm1['Value'] = data_nm1[8].astype(float)\n",
    "\n",
    "\n",
    "# per aggiungere piu basi da visualizzare (uncomment)\n",
    "\n",
    "# data_nm2 = pd.read_csv(nm2, skiprows=9, header=None,sep='\\s+', on_bad_lines='skip')\n",
    "# ind2 = data_nm2[data_nm2.apply(lambda row: row.astype(str).str.contains('\\*').any(), axis=1)].index\n",
    "# data_nm2 = data_nm2.iloc[:ind2[0]]\n",
    "# data_nm2 = data_nm2.replace(-999.00, np.nan)\n",
    "# data_nm2 = data_nm2.dropna()\n",
    "# data_nm2 = data_nm2.drop(data_nm2[data_nm2[8] == '-9999'].index)\n",
    "# data_nm2['DateTime'] = pd.to_datetime(data_nm2[1].astype(str) + ' ' + data_nm2[3].str[:6], format='%y%m%d %H%M%S')\n",
    "# data_nm2['Value'] = data_nm2[8].astype(float)\n",
    "\n"
   ]
  },
  {
   "cell_type": "markdown",
   "metadata": {},
   "source": [
    "# Abbiamo caricato i dati, siamo pronti per visualizzare"
   ]
  },
  {
   "cell_type": "code",
   "execution_count": null,
   "metadata": {},
   "outputs": [],
   "source": [
    "plt.figure(figsize=(10, 5))\n",
    "plt.plot(data_nm1['DateTime'], data_nm1['Value'], label=f'{base1}')\n",
    "#plt.plot(data_nm2['DateTime'], data_nm2['Value'], label=f'{base2}')\n",
    "#plt.plot(data_nm3['DateTime'], data_nm3['Value'], label=f'{base3}')\n",
    "#plt.plot(data_nm4['DateTime'], data_nm4['Value'], label=f'{base4}')\n",
    "plt.xlabel('Time UTC')\n",
    "plt.ylabel('Relative to pre-increase, %')\n",
    "# title the year of the event\n",
    "plt.title(f'Event {event} -- Year =  {data_nm1[\"DateTime\"][0].year}')\n",
    "plt.legend()\n",
    "plt.grid(True)\n",
    "plt.show()"
   ]
  },
  {
   "cell_type": "markdown",
   "metadata": {},
   "source": [
    "# Se nel perido osservato si identifica un GLE (secondo la definizione)\n",
    "- stima la data di arrivo sulla Terra dell'evento solare:\n",
    "- verifica se nella stessa data un esperimento spaziale ha misurato un aumento del flusso di protoni (solar flare)"
   ]
  },
  {
   "cell_type": "code",
   "execution_count": 16,
   "metadata": {},
   "outputs": [],
   "source": [
    "data_evento = ''\n",
    "# e.g. 'year-month-day'"
   ]
  },
  {
   "cell_type": "markdown",
   "metadata": {},
   "source": [
    "## Osservazione del flusso di protoni dallo spazio \n",
    "\n",
    "oltre alle osservazioni a terra è necessario verificare se un esperimento spaziale ha osservato (nello stesso periodo) un aumento del flusso di protoni"
   ]
  },
  {
   "cell_type": "markdown",
   "metadata": {},
   "source": [
    "## Dati da Satellite\n",
    "Per verificare il corrispondente aumento nel flusso di protoni misurato da un esperimento spaziale, usiamo i dati di **GOES** (Geostationary Operational Environmental Satellite)"
   ]
  },
  {
   "cell_type": "code",
   "execution_count": null,
   "metadata": {},
   "outputs": [],
   "source": [
    "Image(filename='figures/goes.png', width=800, height=800)"
   ]
  },
  {
   "cell_type": "markdown",
   "metadata": {},
   "source": [
    "# Cosa vede GOES?"
   ]
  },
  {
   "cell_type": "code",
   "execution_count": null,
   "metadata": {},
   "outputs": [],
   "source": [
    "Image(filename='figures/GOES_proton.png', width=800, height=800)"
   ]
  },
  {
   "cell_type": "markdown",
   "metadata": {},
   "source": [
    "# Osservazione nell'ottico\n",
    "Quando GOES osserva un aumento del flusso di protoni, associato ad un solar flare, classifica l'evento in base all'intensità misurata nella banda ottica\n",
    "\n",
    "## Classificazione dei solar flare in base alla loro intensità\n",
    "| Solar Flare Class | Intensity $W/m^2$  |\n",
    "|-------------------|------------------------------|\n",
    "| B                 | $I < 10^{-6} $            |\n",
    "| C                 | $ 10^{-6} < I < 10^{-5} $  |\n",
    "| M                 | $ 10^{-5} < I < 10^{-4} $  |\n",
    "| X                 | $ I > 10^{-4} $            |"
   ]
  },
  {
   "cell_type": "code",
   "execution_count": null,
   "metadata": {},
   "outputs": [],
   "source": [
    "Image(filename='figures/GOES_photon.png', width=800, height=800)"
   ]
  },
  {
   "cell_type": "markdown",
   "metadata": {},
   "source": [
    "## Verifica se nel giorno selezionato è stato osservato un flare solare da GOES"
   ]
  },
  {
   "cell_type": "code",
   "execution_count": 20,
   "metadata": {},
   "outputs": [],
   "source": [
    "tstart = data_evento + ' 00:00:00'\n",
    "tend = data_evento + ' 23:59:59'"
   ]
  },
  {
   "cell_type": "code",
   "execution_count": null,
   "metadata": {},
   "outputs": [],
   "source": [
    "event_type = \"FL\"\n",
    "result = Fido.search(a.Time(tstart, tend),\n",
    "                     a.hek.EventType(event_type),\n",
    "                     a.hek.FL.GOESCls > \"M1.0\",\n",
    "                     a.hek.OBS.Observatory == \"GOES\")\n",
    "\n",
    "\n",
    "\n",
    "# It\"s also possible to access the HEK results from the\n",
    "# `~sunpy.net.fido_factory.UnifiedResponse` by name.\n",
    "hek_results = result[\"hek\"]\n",
    "\n",
    "filtered_results = hek_results[\"event_starttime\", \"event_peaktime\",\n",
    "                               \"event_endtime\", \"fl_goescls\", \"ar_noaanum\"]\n",
    "\n",
    "by_magnitude = sorted(filtered_results, key=lambda x: ord(x['fl_goescls'][0]) + float(x['fl_goescls'][1:]), reverse=True)\n",
    "\n",
    "for flare in by_magnitude:\n",
    "    print(f\"Class {flare['fl_goescls']} occurred on {flare['event_starttime']}\")"
   ]
  },
  {
   "cell_type": "markdown",
   "metadata": {},
   "source": [
    "# Domande\n",
    "- nel periodo selezionato è avvento un GLE? \n",
    "- quali basi di NM avete usato per identificare il GLE?\n",
    "- quale (o quali) solar flare (classe di intensità) è associato al GLE?"
   ]
  },
  {
   "cell_type": "markdown",
   "metadata": {},
   "source": []
  }
 ],
 "metadata": {
  "kernelspec": {
   "display_name": "tf",
   "language": "python",
   "name": "python3"
  },
  "language_info": {
   "codemirror_mode": {
    "name": "ipython",
    "version": 3
   },
   "file_extension": ".py",
   "mimetype": "text/x-python",
   "name": "python",
   "nbconvert_exporter": "python",
   "pygments_lexer": "ipython3",
   "version": "3.11.9"
  }
 },
 "nbformat": 4,
 "nbformat_minor": 4
}
