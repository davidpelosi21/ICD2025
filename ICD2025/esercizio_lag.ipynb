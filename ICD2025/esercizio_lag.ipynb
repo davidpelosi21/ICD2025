{
 "cells": [
  {
   "cell_type": "code",
   "execution_count": 1,
   "metadata": {},
   "outputs": [],
   "source": [
    "import pandas as pd\n",
    "import numpy as np\n",
    "import matplotlib.pyplot as plt\n",
    "from scipy.interpolate import interp1d\n",
    "from IPython.display import Image\n",
    "from scipy.stats import spearmanr\n"
   ]
  },
  {
   "cell_type": "markdown",
   "metadata": {},
   "source": [
    "# Le Basi di Neutron Monitor disponibili per questo esercizio"
   ]
  },
  {
   "cell_type": "code",
   "execution_count": null,
   "metadata": {},
   "outputs": [],
   "source": [
    "Image(filename='figures/nm_lag.png', width=800, height=800)"
   ]
  },
  {
   "cell_type": "code",
   "execution_count": null,
   "metadata": {},
   "outputs": [],
   "source": [
    "# Define the file path\n",
    "csv_file_path = 'neutron_monitor_stations.csv'\n",
    "df = pd.read_csv(csv_file_path)\n",
    "\n",
    "station_codes = ['OULU', 'APTY', 'JUNG','NEWK']\n",
    "\n",
    "filtered_df = df[df['Station Code'].isin(station_codes)]\n",
    "filtered_df"
   ]
  },
  {
   "cell_type": "markdown",
   "metadata": {},
   "source": [
    "## Seleziona una base"
   ]
  },
  {
   "cell_type": "code",
   "execution_count": 4,
   "metadata": {},
   "outputs": [],
   "source": [
    "base1 = 'OULU'"
   ]
  },
  {
   "cell_type": "markdown",
   "metadata": {},
   "source": [
    "## Modulazione solare\n",
    "- Il Sole emette un vento solare, un flusso di particelle cariche che viaggiano nello spazio. Questo vento crea una sorta di \"scudo\" attorno al Sistema Solare, che influenza (o \"modula\") i raggi cosmici galattici (GCR) che provengono dall'esterno del Sistema Solare.\n",
    "\n",
    "## Potenziale di modulazione ($\\phi$)\n",
    "- Il potenziale di modulazione $\\phi$ è un parametro che quantifica l'intensità dello \"scudo\" solare sui raggi cosmici galattici (GCR). Rappresenta, in pratica, l'energia che un raggio cosmico perde a causa dell'interazione con il vento solare e il campo magnetico eliosferico mentre viaggia verso la Terra.\n",
    "\n",
    "### Come funziona?\n",
    "- Quando il Sole è molto attivo, il vento solare e il campo magnetico sono più forti, aumentando il valore di $\\phi$. Questo significa che i GCR perdono più energia, e quindi solo quelli più energetici riescono a raggiungere la Terra.  \n",
    "- Durante un minimo solare, $\\phi$ è basso e meno energia viene persa, quindi una quantità maggiore di GCR (compresi quelli meno energetici) riesce ad arrivare.\n",
    "\n",
    "### Valori tipici\n",
    "- Il potenziale $\\phi$ è espresso in unità di energia (tipicamente in megavolt, MV):\n",
    "  - **Minimo solare**: $\\phi \\approx 300-400\\ \\text{MV}$ (modulazione debole).\n",
    "  - **Massimo solare**: $\\phi$ può superare i $1000\\ \\text{MV}$ (modulazione forte).\n",
    "\n",
    "## Force field (campo di forza)\n",
    "- È una rappresentazione matematica dell'effetto di questa modulazione solare. Più il vento solare è intenso, più forte è il \"campo di forza\" che respinge o devia i raggi cosmici galattici prima che raggiungano la Terra.  \n",
    "- Questo modello ci permette, se conosciamo il **LIS** (Local Interstellar Spectrum, ovvero il flusso galattico non modulato), alcuni parametri come la massa e la carica della particella (GCR), e il potenziale di modulazione $\\phi$, di stimare il flusso modulato che raggiunge il Sistema Solare interno.\n"
   ]
  },
  {
   "cell_type": "code",
   "execution_count": null,
   "metadata": {},
   "outputs": [],
   "source": [
    "Image(filename='figures/mod.png', width=800, height=800)"
   ]
  },
  {
   "cell_type": "markdown",
   "metadata": {},
   "source": [
    "Estrazione rate di conteggi [Counts/s] per le basi selezionate"
   ]
  },
  {
   "cell_type": "code",
   "execution_count": null,
   "metadata": {},
   "outputs": [],
   "source": [
    "\n",
    "\n",
    "data1 = pd.read_csv(f'NM_basi_ex1/{base1}.csv', header=None, names=['Date', 'Count Rate'], skiprows=1)\n",
    "\n",
    "# Convert fraction of the year to datetime\n",
    "data1['Date'] = pd.to_datetime(data1['Date'], format='%Y') + pd.to_timedelta((data1['Date'] % 1) * 365, unit='D')\n",
    "\n",
    "# Read the CSV file as a pandas DataFrame\n",
    "data = pd.read_csv('SunSpot.csv')\n",
    "\n",
    "# Convert the 'datetime' column to datetime objects\n",
    "data['datetime'] = pd.to_datetime(data['datetime'])\n",
    "\n",
    "# Create an interpolation function for SSN value\n",
    "ssn = interp1d(data['datetime'].astype(np.int64), data['SSN value'], fill_value=\"extrapolate\")\n",
    "\n",
    "# # Determine the x-axis range\n",
    "min_date = data1['Date'].min()\n",
    "max_date = data1['Date'].max()\n",
    "\n",
    "\n",
    "# Plot the data\n",
    "fig, ax1 = plt.subplots(figsize=(10, 6))\n",
    "# remove grid lines in the canvas\n",
    "plt.grid(False)\n",
    "\n",
    "\n",
    "ax1.plot(data1['Date'], data1['Count Rate'], marker='o', linestyle='', label=f'{base1}')\n",
    "\n",
    "#interp data1['Date'] and data1['Count Rate'] \n",
    "\n",
    "base1_counts = interp1d(data1['Date'].astype(np.int64), data1['Count Rate'], fill_value=\"extrapolate\")\n",
    "\n",
    "\n",
    "ax1.set_xlabel('Date')\n",
    "ax1.set_ylabel('NM counts/s')\n",
    "ax1.set_title('Count Rate vs Time')\n",
    "ax1.legend(loc='upper left')\n",
    "ax1.set_xlim([min_date, max_date])\n",
    "\n",
    "# Create a second y-axis to plot SSN\n",
    "ax2 = ax1.twinx()\n",
    "\n",
    "ax2.plot(data['datetime'], data['SSN value'], color='gray', label='SSN')\n",
    "ax2.set_ylabel('SunSpot')\n",
    "ax2.legend(loc='upper right')\n",
    "ax2.set_xlim([min_date, max_date])\n",
    "\n",
    "plt.show()\n"
   ]
  },
  {
   "cell_type": "markdown",
   "metadata": {},
   "source": [
    "###  Come atteso il numero di SSN (indicatore di attività solare) e i conteggi di NM sono anticorrelati!"
   ]
  },
  {
   "cell_type": "markdown",
   "metadata": {},
   "source": [
    "### Dalle serie stotiche (dati \"raw\") di una serie di basi di Neutron Monitor è possibile ricavare una stima del potenziale di modulazione  $\\phi$\n",
    "\n",
    "- from Väisänen, Usoskin, Kähkönen, Koldobskiy, Mursula: Updated heliospheric modulation potential of cosmic rays and station-specific scaling factors for 1964-2021"
   ]
  },
  {
   "cell_type": "code",
   "execution_count": null,
   "metadata": {},
   "outputs": [],
   "source": [
    "# Read the CSV file, skipping the first row and using semicolon as the delimiter\n",
    "phi_data = pd.read_csv('Monthlyphi.csv', skiprows=1, sep=';', names=['Year', 'Month', 'Fractional Year', 'Phi Value'])\n",
    "\n",
    "# Ensure the columns are of the correct data type\n",
    "phi_data['Year'] = phi_data['Year'].astype(int)\n",
    "phi_data['Month'] = phi_data['Month'].astype(int)\n",
    "phi_data['Fractional Year'] = phi_data['Fractional Year'].astype(float)\n",
    "phi_data['Phi Value'] = phi_data['Phi Value'].astype(float)\n",
    "\n",
    "# Convert the 'Year' and 'Month' columns to datetime objects\n",
    "phi_data['Date'] = pd.to_datetime(phi_data[['Year', 'Month']].assign(DAY=1))\n",
    "\n",
    "# Plot the data\n",
    "fig, ax = plt.subplots(figsize=(10, 6))\n",
    "ax.plot(phi_data['Date'], phi_data['Phi Value'], marker='o', linestyle='-')\n",
    "ax.set_xlabel('Date')\n",
    "ax.set_ylabel('Phi [MV]')\n",
    "plt.show()\n",
    "\n",
    "# Define an interpolation function\n",
    "phi = interp1d(phi_data['Date'].astype(np.int64), phi_data['Phi Value'], fill_value=\"extrapolate\")\n",
    "\n",
    "\n"
   ]
  },
  {
   "cell_type": "markdown",
   "metadata": {},
   "source": [
    "### Questa è la serie storica (mensile) del potenziale di modulazione $\\phi$ ottenuta proprio dai conteggi di diverse basi di Neutron Monitor"
   ]
  },
  {
   "cell_type": "markdown",
   "metadata": {},
   "source": [
    "# LIS Protoni - Il Flusso Galattico che ci serve per applicare il modello Force-Field e stimare il flusso modulato dei protoni (GCR)"
   ]
  },
  {
   "cell_type": "markdown",
   "metadata": {},
   "source": [
    "### combianando dati delle sonde Voyager e dati di AMS-02 e modelli di propagazione galattica ed eliosferica abbiamo un modello per il flusso galattico (costante - LIS) di protoni  "
   ]
  },
  {
   "cell_type": "code",
   "execution_count": null,
   "metadata": {},
   "outputs": [],
   "source": [
    "# Read the CSV file as a pandas DataFrame\n",
    "data = pd.read_csv('LIS.csv')\n",
    "\n",
    "# Create an interpolation function for LIS flux values\n",
    "J_lis = interp1d(data['energy[MeV]'], data['Flux'], fill_value=\"extrapolate\")\n",
    "\n",
    "#plot the lis\n",
    "fig, ax = plt.subplots(figsize=(10, 6))\n",
    "# log scale\n",
    "ax.set_yscale('log')\n",
    "ax.set_xscale('log')\n",
    "# energy range\n",
    "ax.set_xlim([30, 20000])\n",
    "ax.plot(data['energy[MeV]'], data['Flux'], linestyle='-')\n",
    "ax.set_xlabel('Energy [MeV]')\n",
    "ax.set_ylabel('Flux [m^-2 s^-1 sr^-1 (MeV/n)^-1]')\n",
    "plt.show()\n"
   ]
  },
  {
   "cell_type": "markdown",
   "metadata": {},
   "source": [
    "# Il Modello Force-Field - l'equazione"
   ]
  },
  {
   "cell_type": "code",
   "execution_count": null,
   "metadata": {},
   "outputs": [],
   "source": [
    "Image(filename='figures/ForceField.png', width=800, height=800)"
   ]
  },
  {
   "cell_type": "markdown",
   "metadata": {},
   "source": [
    "# Studiare l'effetto della modulazione a diverse energie [MeV]. \n",
    "### La modulazione solare è efficace a basse energie (< 3/4 GeV) mentre a più alte energie il campo magnetico eliosferico è troppo poco intenso per modificare significativamente le traiettorie dei raggi cosmici."
   ]
  },
  {
   "cell_type": "markdown",
   "metadata": {},
   "source": [
    "## Seleziona un'energia e un periodo temporale di riferimento"
   ]
  },
  {
   "cell_type": "code",
   "execution_count": 10,
   "metadata": {},
   "outputs": [],
   "source": [
    "start_date = '2000-05-15'\n",
    "end_date = '2020-06-15'\n",
    " \n",
    "E = 5000 # MeV  \n"
   ]
  },
  {
   "cell_type": "code",
   "execution_count": null,
   "metadata": {},
   "outputs": [],
   "source": [
    "# Proton mass in MeV (constant)\n",
    "M_p = 938.272  # Proton mass in MeV/c^2\n",
    "\n",
    "def flux_reconstruction(E, phi, date_range, J_lis):\n",
    "    \"\"\"\n",
    "    Compute the flux at 1 AU using the provided formula.\n",
    "    \n",
    "    Parameters:\n",
    "    E : float\n",
    "        Energy in MeV.\n",
    "    phi : function\n",
    "        An interpolation function for modulation potential values (phi(t)).\n",
    "    t_index : int\n",
    "        The index in the phi_values timeseries for the time t of interest.\n",
    "    J_lis : function\n",
    "        A function that takes energy (in MeV) as input and returns the LIS flux.\n",
    "    \n",
    "    Returns:\n",
    "    float\n",
    "        The reconstructed flux at 1 AU.\n",
    "    \"\"\"\n",
    "    # Extract the modulation potential for the given time index\n",
    "    phi_t = phi(date_range.astype(np.int64))\n",
    "    \n",
    "    # Compute the numerator and denominator of the flux formula\n",
    "    numerator = (E + M_p)**2 - M_p**2\n",
    "    denominator = (E + M_p + phi_t)**2 - M_p**2\n",
    "    \n",
    "    # Compute the flux at 1 AU\n",
    "    J_r_1AU = (numerator / denominator) * J_lis(E + phi_t)\n",
    "    \n",
    "    return J_r_1AU\n",
    "\n",
    "\n",
    "\n",
    "\n",
    "\n",
    "\n",
    "\n",
    "date_range = pd.date_range(start=start_date, end=end_date, freq='M')\n",
    "\n",
    "\n",
    "# Compute the flux\n",
    "flux = flux_reconstruction(E, phi, date_range, J_lis)\n",
    "\n",
    "#plot the flux\n",
    "fig, ax = plt.subplots(figsize=(10, 6))\n",
    "ax.plot(date_range, flux, marker='o', linestyle='-')\n",
    "ax.set_xlabel('Date')\n",
    "ax.set_ylabel('Flux at 1 AU [m^-2 s^-1 sr^-1 (MeV/n)^-1]')\n",
    "plt.show()\n",
    "\n"
   ]
  },
  {
   "cell_type": "markdown",
   "metadata": {},
   "source": [
    "### Ricostruzione del flusso di protoni all'energia selezionata  \n",
    "Questa è la ricostruzione del flusso di protoni a una determinata energia, ottenuta applicando il modello **Force-Field**.  \n",
    "\n",
    "### Il modello **Force-Field** mostra sempre una variazione ciclica del flusso in relazione all'attività solare. Tuttavia, l'effetto della modulazione è meno intenso alle alte energie. Per questo motivo, è utile visualizzare la variazione del flusso rispetto alla media: se l'energia $E$ aumenta, la variazione diventa progressivamente più piccola.\n"
   ]
  },
  {
   "cell_type": "code",
   "execution_count": null,
   "metadata": {},
   "outputs": [],
   "source": [
    "# Calculate the mean of the flux\n",
    "mean_flux = np.mean(flux)\n",
    "\n",
    "# Calculate the relative variation with respect to the mean\n",
    "relative_variation = (flux - mean_flux) / mean_flux * 100\n",
    "\n",
    "# Plot the relative variation\n",
    "fig, ax = plt.subplots(figsize=(10, 6))\n",
    "ax.plot(date_range, relative_variation, marker='o', linestyle='-')\n",
    "ax.set_xlabel('Date')\n",
    "ax.set_ylabel('Relative Variation (%)')\n",
    "ax.set_title(f'Relative Variation of Flux at {E} MeV')\n",
    "plt.show()"
   ]
  },
  {
   "cell_type": "markdown",
   "metadata": {},
   "source": [
    "## Domanda \n",
    "- ripeti il codice con diverse energie per osservare come dimminuisce la variazione (%) rispetto alla media  "
   ]
  },
  {
   "cell_type": "markdown",
   "metadata": {},
   "source": [
    "## Time Lag tra Sunspot Number e Conteggi di Neutron Monitor o Flussi Spaziali\n",
    "\n",
    "Il **time lag** (ritardo temporale) tra il numero di macchie solari (**sunspot number**) e i conteggi dei neutron monitor o i flussi misurati nello spazio si riferisce al fatto che i cambiamenti nell'attività solare non si riflettono immediatamente nei raggi cosmici osservati.\n",
    "\n",
    "### Perché c'è un ritardo?  \n",
    "Quando il numero di macchie solari aumenta, il Sole diventa più attivo e il vento solare e il suo campo magnetico si intensificano. Tuttavia, l'effetto sui raggi cosmici richiede tempo per manifestarsi per due motivi principali:\n",
    "1. **Propagazione lenta del vento solare**:  \n",
    "   Il vento solare e il campo magnetico impiegano giorni o settimane per diffondersi nello spazio e influenzare i raggi cosmici (velocità del vento solare circa 400 km/s).\n",
    "\n",
    "2. **Inerzia del sistema**:  \n",
    "   Il comportamento dei raggi cosmici è influenzato non solo dalle condizioni attuali del Sole, ma anche dall'accumulo delle condizioni passate.\n",
    "\n"
   ]
  },
  {
   "cell_type": "markdown",
   "metadata": {},
   "source": [
    "### Seleziona un set di possibili delay (in mesi)  \n",
    "- Calcola la correlazione (attraverso il coefficiente di Spearman) tra il numero di SSN (Sunspot Number) e i conteggi della base Neutron Monitor scelta. \n",
    "- Verifica come la correlazione evolve nel tempo e raggiunge un massimo per uno specifico delay."
   ]
  },
  {
   "cell_type": "code",
   "execution_count": null,
   "metadata": {},
   "outputs": [],
   "source": [
    "print(f\"La base selezionata è : {base1}\")\n"
   ]
  },
  {
   "cell_type": "markdown",
   "metadata": {},
   "source": [
    "## seleziona un set di possibili lag (in mesi) e un periodo temporale sul quale calcolare questa correlazione tra 1980 - 2021"
   ]
  },
  {
   "cell_type": "code",
   "execution_count": 14,
   "metadata": {},
   "outputs": [],
   "source": [
    "# esempio \n",
    "delays = (0, 1, 2, 3, 4, 5, 6, 7, 8, 10, 11, 14, 18) # in mesi\n",
    "start_date = '2008-05-15'\n",
    "end_date = '2020-06-15'"
   ]
  },
  {
   "cell_type": "code",
   "execution_count": null,
   "metadata": {},
   "outputs": [],
   "source": [
    "def calculate_correlation_with_delay(delay_months, base):\n",
    "    delayed_ssn_values = ssn((date_range - pd.DateOffset(months=delay_months)).astype(np.int64))    \n",
    "    # Calculate the Spearman correlation\n",
    "    correlation, _ = spearmanr(delayed_ssn_values, base)\n",
    "    \n",
    "    return abs(correlation)\n",
    "\n",
    "\n",
    "\n",
    "date_range = pd.date_range(start=start_date, end=end_date, freq='M')\n",
    "\n",
    "correlations_1 = [calculate_correlation_with_delay(delay, base1_counts(date_range.astype(np.int64))) for delay in delays]\n",
    "\n",
    "# Plot\n",
    "fig, ax = plt.subplots(figsize=(10, 6))\n",
    "ax.plot(delays, correlations_1, marker='o', linestyle='-')\n",
    "ax.legend(loc='upper right', labels=[base1])\n",
    "ax.set_xlabel('Delay (months)')\n",
    "ax.set_ylabel('Spearman Correlation')\n",
    "ax.set_title('Correlation between SSN and Flux with Different Delays')\n",
    "plt.show()"
   ]
  },
  {
   "cell_type": "code",
   "execution_count": null,
   "metadata": {},
   "outputs": [],
   "source": [
    "delay_interp_1 = interp1d(delays, correlations_1, kind='cubic')\n",
    "finer_delays = np.linspace(0, max(delays), num=100)\n",
    "finer_correlations_1 = delay_interp_1(finer_delays)\n",
    "\n",
    "# Find the max correlation and corresponding delay\n",
    "max_correlation1 = np.max(finer_correlations_1)\n",
    "max_delay1 = finer_delays[np.argmax(finer_correlations_1)]\n",
    "\n",
    "print(f\"Correlazione massuma: {max_correlation1:.2f} per un delat di {max_delay1:.2f} mesi\")"
   ]
  },
  {
   "cell_type": "markdown",
   "metadata": {},
   "source": [
    "## Domanda\n",
    "- Quale base avete scelto per determinare il lag?\n",
    "- Quanto vale la stima del lag?\n",
    "- Il lag temporale varia se selezionate una base diversa?\n",
    "- Il lag temporale varia se si considera un periodo diverso?  \n",
    "  (Consiglio: valutate relativamente ai cicli solari ciclo 23 e ciclo 24)\n",
    "\n",
    "### Date dei Cicli Solari:\n",
    "- **Ciclo 23**: Inizio nel 1996, fine nel 2008.\n",
    "- **Ciclo 24**: Inizio nel 2008, fine nel 2020\n"
   ]
  }
 ],
 "metadata": {
  "kernelspec": {
   "display_name": "tf",
   "language": "python",
   "name": "python3"
  },
  "language_info": {
   "codemirror_mode": {
    "name": "ipython",
    "version": 3
   },
   "file_extension": ".py",
   "mimetype": "text/x-python",
   "name": "python",
   "nbconvert_exporter": "python",
   "pygments_lexer": "ipython3",
   "version": "3.11.9"
  }
 },
 "nbformat": 4,
 "nbformat_minor": 2
}
